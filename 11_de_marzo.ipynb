{
  "nbformat": 4,
  "nbformat_minor": 0,
  "metadata": {
    "colab": {
      "provenance": [],
      "authorship_tag": "ABX9TyNHM7cKVZnQMaQ4wf2goZip",
      "include_colab_link": true
    },
    "kernelspec": {
      "name": "python3",
      "display_name": "Python 3"
    },
    "language_info": {
      "name": "python"
    }
  },
  "cells": [
    {
      "cell_type": "markdown",
      "metadata": {
        "id": "view-in-github",
        "colab_type": "text"
      },
      "source": [
        "<a href=\"https://colab.research.google.com/github/EvansRojas/Clase-Inteligencia-Artificial/blob/main/11_de_marzo.ipynb\" target=\"_parent\"><img src=\"https://colab.research.google.com/assets/colab-badge.svg\" alt=\"Open In Colab\"/></a>"
      ]
    },
    {
      "cell_type": "code",
      "execution_count": null,
      "metadata": {
        "id": "D2rwnMP8EIjA"
      },
      "outputs": [],
      "source": []
    },
    {
      "cell_type": "markdown",
      "source": [
        "# CLASE | Inteligencia Artificial | 11/03/2025\n",
        "\n",
        "Poner el certificado con el nombre completo, y enviarlo al tema que proximamente será abierto.\n",
        "\n",
        "entrega link del colab\n",
        "\n",
        "multicolinealidad = Matriz de correlación , VIF (Factor de Inflación de la Varianza) , Determinante de la matriz de correlación o matriz de varianzas-covarianzas\n",
        "\n",
        "## Analisis de la varianza.\n",
        "\n",
        "El análisis de la varianza (ANOVA, por sus siglas en inglés) es una técnica estadística utilizada para comparar las medias de tres o más grupos independientes y determinar si existen diferencias significativas entre ellas. Se basa en la partición de la variabilidad total observada en los datos en componentes atribuibles a diferentes fuentes, como los efectos de los tratamientos o grupos, y los errores o variabilidad dentro de los grupos.\n",
        "\n",
        "Conceptos clave en el ANOVA:\n",
        "\n",
        "## Hipótesis nula (H₀):\n",
        "Afirma que no hay diferencias significativas entre las medias de los grupos.\n",
        "\n",
        "## Hipótesis alternativa (H₁):\n",
        "Afirma que al menos una de las medias de los grupos es diferente.\n",
        "\n",
        "## F-ratio (estadístico F):\n",
        "Es el cociente entre la variabilidad entre los grupos y la variabilidad dentro de los grupos. Si este valor es significativamente alto, sugiere que las diferencias entre los grupos no se deben al azar.\n",
        "\n",
        "Proceso básico:\n",
        "Cálculo de la media total de todos los grupos combinados.\n",
        "\n",
        "Cálculo de la variabilidad entre los grupos (entre tratamientos).\n",
        "\n",
        "Cálculo de la variabilidad dentro de los grupos (error).\n",
        "\n",
        "Cálculo del estadístico F que compara la variabilidad entre y dentro de los grupos.\n",
        "\n",
        "Determinación de si las diferencias son significativas a través de la comparación del valor F con un valor crítico o mediante el p-valor.\n",
        "\n",
        "## Tipos comunes de ANOVA:\n",
        "*ANOVA* de un factor (o unidireccional): Compara las medias de más de dos grupos basados en un solo factor (por ejemplo, diferentes tratamientos).\n",
        "\n",
        "*ANOVA* de dos factores: Compara los efectos de dos factores diferentes y sus interacciones.\n",
        "\n",
        "*ANOVA* es ampliamente utilizado en investigación científica, economía, psicología, y muchas otras áreas para validar o refutar hipótesis sobre diferencias entre grupos.\n",
        "\n",
        "## SMOTE\n",
        "\n",
        "SMOTE (Synthetic Minority Over-sampling Technique) es una técnica de oversampling utilizada para tratar problemas de desbalance de clases en conjuntos de datos. Específicamente, SMOTE se utiliza para aumentar la cantidad de ejemplos de la clase minoritaria, generando nuevos ejemplos sintéticos en lugar de simplemente replicar los ejemplos existentes.\n",
        "\n",
        "En situaciones donde hay clases desbalanceadas (por ejemplo, en problemas de clasificación donde una clase tiene muchos más ejemplos que la otra), los algoritmos de aprendizaje automático tienden a estar sesgados hacia la clase mayoritaria, lo que puede llevar a un desempeño deficiente en la predicción de la clase minoritaria.\n",
        "\n",
        "## Como balaceamos un dataset o un streamlit?\n",
        "\n",
        "Cuando tienes un dataset desbalanceado (es decir, cuando una clase tiene significativamente más ejemplos que otra), el modelo de machine learning tiende a estar sesgado hacia la clase mayoritaria, lo que puede llevar a una baja precisión en la predicción de la clase minoritaria.\n",
        "\n",
        "Existen dos enfoques principales para balancear un conjunto de datos:\n",
        "\n",
        "1. Oversampling de la clase minoritaria (SMOTE, Random OverSampling)\n",
        "\n",
        "2. Undersampling de la clase mayoritaria (Random UnderSampling)\n",
        "\n",
        "Técnicas para balancear un dataset:\n",
        "\n",
        "1. Oversampling (Aumentar ejemplos de la clase minoritaria)\n",
        "SMOTE (Synthetic Minority Over-sampling Technique): Genera ejemplos sintéticos de la clase minoritaria.\n",
        "\n",
        "Random Over-sampling: Duplica aleatoriamente las instancias de la clase minoritaria.\n",
        "\n",
        "2. Undersampling (Reducir ejemplos de la clase mayoritaria)\n",
        "\n",
        "Random Under-sampling: Elimina aleatoriamente ejemplos de la clase mayoritaria para igualar el número de ejemplos en ambas clases.\n",
        "\n",
        "## Resumen\n",
        "\n",
        "En una aplicación Streamlit, puedes balancear un dataset utilizando técnicas como SMOTE o Random Under-sampling a través de bibliotecas como imblearn. Usando un selectbox, permites que el usuario seleccione la técnica de balanceo que desea aplicar y luego muestras los resultados de las clases balanceadas en la interfaz.\n",
        "\n",
        "-------\n",
        "Clasificacion 0 y 1\n",
        "\n",
        "Supervisado cuando hay Label\n",
        "\n",
        "----------------------\n",
        "\n"
      ],
      "metadata": {
        "id": "cnfXiP18ELwq"
      }
    }
  ]
}